{
 "cells": [
  {
   "cell_type": "code",
   "execution_count": 1,
   "id": "161401f0",
   "metadata": {},
   "outputs": [],
   "source": [
    "import pandas as pd\n",
    "import numpy as np\n",
    "import matplotlib.pyplot as plt\n",
    "import seaborn as sns\n",
    "import warnings\n",
    "warnings.filterwarnings(\"ignore\")\n"
   ]
  },
  {
   "cell_type": "code",
   "execution_count": 2,
   "id": "974762e7",
   "metadata": {},
   "outputs": [],
   "source": [
    "data = pd.read_csv('SBU_example_Surveydata_2014.csv',encoding='latin1', na_values=['Refused',\"Don't know/Not sure\"])"
   ]
  },
  {
   "cell_type": "code",
   "execution_count": 3,
   "id": "ab1c34b7",
   "metadata": {},
   "outputs": [],
   "source": [
    "data.drop(labels=['STATERES', 'LADULT', 'NUMADULT', 'CTYCODE1'],axis=1,inplace=True)"
   ]
  },
  {
   "cell_type": "code",
   "execution_count": 4,
   "id": "317a9661",
   "metadata": {},
   "outputs": [],
   "source": [
    "data =  data[(data.DIABETE3 == \"Yes\") | (data.DIABETE3 == \"No\")]"
   ]
  },
  {
   "cell_type": "code",
   "execution_count": 5,
   "id": "a2e75d74",
   "metadata": {},
   "outputs": [
    {
     "data": {
      "text/plain": [
       "(6690, 116)"
      ]
     },
     "execution_count": 5,
     "metadata": {},
     "output_type": "execute_result"
    }
   ],
   "source": [
    "data.shape"
   ]
  },
  {
   "cell_type": "code",
   "execution_count": 6,
   "id": "30bbff5d",
   "metadata": {},
   "outputs": [],
   "source": [
    "dfFinal = data.select_dtypes(include=np.number)"
   ]
  },
  {
   "cell_type": "code",
   "execution_count": 7,
   "id": "b3c5638a",
   "metadata": {},
   "outputs": [
    {
     "data": {
      "text/plain": [
       "(6690, 12)"
      ]
     },
     "execution_count": 7,
     "metadata": {},
     "output_type": "execute_result"
    }
   ],
   "source": [
    "dfFinal.shape"
   ]
  },
  {
   "cell_type": "code",
   "execution_count": 8,
   "id": "779756c4",
   "metadata": {},
   "outputs": [],
   "source": [
    "dfFinal['age'] = data.AGE.values"
   ]
  },
  {
   "cell_type": "code",
   "execution_count": 9,
   "id": "d3d28769",
   "metadata": {},
   "outputs": [
    {
     "data": {
      "text/html": [
       "<div>\n",
       "<style scoped>\n",
       "    .dataframe tbody tr th:only-of-type {\n",
       "        vertical-align: middle;\n",
       "    }\n",
       "\n",
       "    .dataframe tbody tr th {\n",
       "        vertical-align: top;\n",
       "    }\n",
       "\n",
       "    .dataframe thead th {\n",
       "        text-align: right;\n",
       "    }\n",
       "</style>\n",
       "<table border=\"1\" class=\"dataframe\">\n",
       "  <thead>\n",
       "    <tr style=\"text-align: right;\">\n",
       "      <th></th>\n",
       "      <th>GEOSTR</th>\n",
       "      <th>REPNUM</th>\n",
       "      <th>REPDEPTH</th>\n",
       "      <th>IDATE</th>\n",
       "      <th>IDAY</th>\n",
       "      <th>IYEAR</th>\n",
       "      <th>DISPCODE</th>\n",
       "      <th>SEQNO</th>\n",
       "      <th>PSU</th>\n",
       "      <th>NATTMPTS</th>\n",
       "      <th>NRECSEL</th>\n",
       "      <th>NRECSTR</th>\n",
       "      <th>age</th>\n",
       "    </tr>\n",
       "  </thead>\n",
       "  <tbody>\n",
       "    <tr>\n",
       "      <th>0</th>\n",
       "      <td>201</td>\n",
       "      <td>40136</td>\n",
       "      <td>28</td>\n",
       "      <td>4252014</td>\n",
       "      <td>25</td>\n",
       "      <td>2014</td>\n",
       "      <td>1200</td>\n",
       "      <td>2014000012</td>\n",
       "      <td>2014000012</td>\n",
       "      <td>2</td>\n",
       "      <td>16600</td>\n",
       "      <td>14358760.86</td>\n",
       "      <td>Age 65 or older</td>\n",
       "    </tr>\n",
       "    <tr>\n",
       "      <th>1</th>\n",
       "      <td>202</td>\n",
       "      <td>10105</td>\n",
       "      <td>17</td>\n",
       "      <td>3162014</td>\n",
       "      <td>16</td>\n",
       "      <td>2014</td>\n",
       "      <td>1200</td>\n",
       "      <td>2014000013</td>\n",
       "      <td>2014000013</td>\n",
       "      <td>8</td>\n",
       "      <td>14544</td>\n",
       "      <td>13058665.94</td>\n",
       "      <td>Age 65 or older</td>\n",
       "    </tr>\n",
       "    <tr>\n",
       "      <th>2</th>\n",
       "      <td>201</td>\n",
       "      <td>110014</td>\n",
       "      <td>4</td>\n",
       "      <td>11292014</td>\n",
       "      <td>29</td>\n",
       "      <td>2014</td>\n",
       "      <td>1200</td>\n",
       "      <td>2014000014</td>\n",
       "      <td>2014000014</td>\n",
       "      <td>8</td>\n",
       "      <td>16600</td>\n",
       "      <td>14358760.86</td>\n",
       "      <td>Age 35 - 44</td>\n",
       "    </tr>\n",
       "    <tr>\n",
       "      <th>3</th>\n",
       "      <td>201</td>\n",
       "      <td>110083</td>\n",
       "      <td>6</td>\n",
       "      <td>11252014</td>\n",
       "      <td>25</td>\n",
       "      <td>2014</td>\n",
       "      <td>1200</td>\n",
       "      <td>2014000015</td>\n",
       "      <td>2014000015</td>\n",
       "      <td>9</td>\n",
       "      <td>16600</td>\n",
       "      <td>14358760.86</td>\n",
       "      <td>Age 65 or older</td>\n",
       "    </tr>\n",
       "    <tr>\n",
       "      <th>4</th>\n",
       "      <td>202</td>\n",
       "      <td>50129</td>\n",
       "      <td>7</td>\n",
       "      <td>10052014</td>\n",
       "      <td>5</td>\n",
       "      <td>2014</td>\n",
       "      <td>1200</td>\n",
       "      <td>2014000016</td>\n",
       "      <td>2014000016</td>\n",
       "      <td>8</td>\n",
       "      <td>14544</td>\n",
       "      <td>13058665.94</td>\n",
       "      <td>Age 35 - 44</td>\n",
       "    </tr>\n",
       "  </tbody>\n",
       "</table>\n",
       "</div>"
      ],
      "text/plain": [
       "   GEOSTR  REPNUM  REPDEPTH     IDATE  IDAY  IYEAR  DISPCODE       SEQNO  \\\n",
       "0     201   40136        28   4252014    25   2014      1200  2014000012   \n",
       "1     202   10105        17   3162014    16   2014      1200  2014000013   \n",
       "2     201  110014         4  11292014    29   2014      1200  2014000014   \n",
       "3     201  110083         6  11252014    25   2014      1200  2014000015   \n",
       "4     202   50129         7  10052014     5   2014      1200  2014000016   \n",
       "\n",
       "          PSU  NATTMPTS  NRECSEL      NRECSTR              age  \n",
       "0  2014000012         2    16600  14358760.86  Age 65 or older  \n",
       "1  2014000013         8    14544  13058665.94  Age 65 or older  \n",
       "2  2014000014         8    16600  14358760.86      Age 35 - 44  \n",
       "3  2014000015         9    16600  14358760.86  Age 65 or older  \n",
       "4  2014000016         8    14544  13058665.94      Age 35 - 44  "
      ]
     },
     "execution_count": 9,
     "metadata": {},
     "output_type": "execute_result"
    }
   ],
   "source": [
    "dfFinal.head()"
   ]
  },
  {
   "cell_type": "code",
   "execution_count": 10,
   "id": "78e5ac08",
   "metadata": {},
   "outputs": [
    {
     "data": {
      "text/plain": [
       "Age 65 or older        2023\n",
       "Age 55 - 64            1379\n",
       "Age 45 - 54            1177\n",
       "Age 35 - 44             837\n",
       "Age 25 - 34             760\n",
       "Age 18 - 24             400\n",
       "Dont know/Not sure       2\n",
       "Name: age, dtype: int64"
      ]
     },
     "execution_count": 10,
     "metadata": {},
     "output_type": "execute_result"
    }
   ],
   "source": [
    "dfFinal.age.value_counts()"
   ]
  },
  {
   "cell_type": "code",
   "execution_count": 11,
   "id": "36299a25",
   "metadata": {},
   "outputs": [
    {
     "data": {
      "text/html": [
       "<div>\n",
       "<style scoped>\n",
       "    .dataframe tbody tr th:only-of-type {\n",
       "        vertical-align: middle;\n",
       "    }\n",
       "\n",
       "    .dataframe tbody tr th {\n",
       "        vertical-align: top;\n",
       "    }\n",
       "\n",
       "    .dataframe thead th {\n",
       "        text-align: right;\n",
       "    }\n",
       "</style>\n",
       "<table border=\"1\" class=\"dataframe\">\n",
       "  <thead>\n",
       "    <tr style=\"text-align: right;\">\n",
       "      <th></th>\n",
       "      <th>GEOSTR</th>\n",
       "      <th>REPNUM</th>\n",
       "      <th>REPDEPTH</th>\n",
       "      <th>IDATE</th>\n",
       "      <th>IDAY</th>\n",
       "      <th>IYEAR</th>\n",
       "      <th>DISPCODE</th>\n",
       "      <th>SEQNO</th>\n",
       "      <th>PSU</th>\n",
       "      <th>NATTMPTS</th>\n",
       "      <th>NRECSEL</th>\n",
       "      <th>NRECSTR</th>\n",
       "      <th>age</th>\n",
       "    </tr>\n",
       "  </thead>\n",
       "  <tbody>\n",
       "    <tr>\n",
       "      <th>396</th>\n",
       "      <td>101</td>\n",
       "      <td>20054</td>\n",
       "      <td>20</td>\n",
       "      <td>2092014</td>\n",
       "      <td>9</td>\n",
       "      <td>2014</td>\n",
       "      <td>1200</td>\n",
       "      <td>2014000408</td>\n",
       "      <td>2014000408</td>\n",
       "      <td>5</td>\n",
       "      <td>21545</td>\n",
       "      <td>2835024.0</td>\n",
       "      <td>Dont know/Not sure</td>\n",
       "    </tr>\n",
       "    <tr>\n",
       "      <th>2625</th>\n",
       "      <td>101</td>\n",
       "      <td>10103</td>\n",
       "      <td>24</td>\n",
       "      <td>2102014</td>\n",
       "      <td>10</td>\n",
       "      <td>2014</td>\n",
       "      <td>1200</td>\n",
       "      <td>2014002637</td>\n",
       "      <td>2014002637</td>\n",
       "      <td>8</td>\n",
       "      <td>21545</td>\n",
       "      <td>2835024.0</td>\n",
       "      <td>Dont know/Not sure</td>\n",
       "    </tr>\n",
       "  </tbody>\n",
       "</table>\n",
       "</div>"
      ],
      "text/plain": [
       "      GEOSTR  REPNUM  REPDEPTH    IDATE  IDAY  IYEAR  DISPCODE       SEQNO  \\\n",
       "396      101   20054        20  2092014     9   2014      1200  2014000408   \n",
       "2625     101   10103        24  2102014    10   2014      1200  2014002637   \n",
       "\n",
       "             PSU  NATTMPTS  NRECSEL    NRECSTR                  age  \n",
       "396   2014000408         5    21545  2835024.0  Dont know/Not sure  \n",
       "2625  2014002637         8    21545  2835024.0  Dont know/Not sure  "
      ]
     },
     "execution_count": 11,
     "metadata": {},
     "output_type": "execute_result"
    }
   ],
   "source": [
    "dfFinal[dfFinal.age == 'Don\\x92t know/Not sure']"
   ]
  },
  {
   "cell_type": "code",
   "execution_count": 12,
   "id": "3905055b",
   "metadata": {},
   "outputs": [
    {
     "data": {
      "text/plain": [
       "Age 65 or older        2023\n",
       "Age 55 - 64            1379\n",
       "Age 45 - 54            1177\n",
       "Age 35 - 44             837\n",
       "Age 25 - 34             760\n",
       "Age 18 - 24             400\n",
       "Dont know/Not sure       2\n",
       "Name: age, dtype: int64"
      ]
     },
     "execution_count": 12,
     "metadata": {},
     "output_type": "execute_result"
    }
   ],
   "source": [
    "dfFinal.age.value_counts()"
   ]
  },
  {
   "cell_type": "code",
   "execution_count": 13,
   "id": "ce44ef02",
   "metadata": {},
   "outputs": [],
   "source": [
    "dfFinal.drop([2625,396], axis=0, inplace=True)\n",
    "data.drop([2625,396], axis=0, inplace=True)"
   ]
  },
  {
   "cell_type": "code",
   "execution_count": 14,
   "id": "13d2b256",
   "metadata": {},
   "outputs": [
    {
     "data": {
      "text/html": [
       "<div>\n",
       "<style scoped>\n",
       "    .dataframe tbody tr th:only-of-type {\n",
       "        vertical-align: middle;\n",
       "    }\n",
       "\n",
       "    .dataframe tbody tr th {\n",
       "        vertical-align: top;\n",
       "    }\n",
       "\n",
       "    .dataframe thead th {\n",
       "        text-align: right;\n",
       "    }\n",
       "</style>\n",
       "<table border=\"1\" class=\"dataframe\">\n",
       "  <thead>\n",
       "    <tr style=\"text-align: right;\">\n",
       "      <th></th>\n",
       "      <th>GEOSTR</th>\n",
       "      <th>REPNUM</th>\n",
       "      <th>REPDEPTH</th>\n",
       "      <th>IDATE</th>\n",
       "      <th>IDAY</th>\n",
       "      <th>IYEAR</th>\n",
       "      <th>DISPCODE</th>\n",
       "      <th>SEQNO</th>\n",
       "      <th>PSU</th>\n",
       "      <th>NATTMPTS</th>\n",
       "      <th>NRECSEL</th>\n",
       "      <th>NRECSTR</th>\n",
       "      <th>age</th>\n",
       "    </tr>\n",
       "  </thead>\n",
       "  <tbody>\n",
       "  </tbody>\n",
       "</table>\n",
       "</div>"
      ],
      "text/plain": [
       "Empty DataFrame\n",
       "Columns: [GEOSTR, REPNUM, REPDEPTH, IDATE, IDAY, IYEAR, DISPCODE, SEQNO, PSU, NATTMPTS, NRECSEL, NRECSTR, age]\n",
       "Index: []"
      ]
     },
     "execution_count": 14,
     "metadata": {},
     "output_type": "execute_result"
    }
   ],
   "source": [
    "dfFinal[dfFinal.age == 'Don\\x92t know/Not sure']"
   ]
  },
  {
   "cell_type": "code",
   "execution_count": 15,
   "id": "1bc568e3",
   "metadata": {},
   "outputs": [],
   "source": [
    "from sklearn.preprocessing import LabelEncoder"
   ]
  },
  {
   "cell_type": "code",
   "execution_count": 16,
   "id": "20198e54",
   "metadata": {},
   "outputs": [],
   "source": [
    "lc = LabelEncoder()"
   ]
  },
  {
   "cell_type": "code",
   "execution_count": 17,
   "id": "ccc429c0",
   "metadata": {},
   "outputs": [],
   "source": [
    "dfFinal['age'] = lc.fit_transform(dfFinal.age)"
   ]
  },
  {
   "cell_type": "code",
   "execution_count": 18,
   "id": "78cad05d",
   "metadata": {},
   "outputs": [
    {
     "data": {
      "text/plain": [
       "5    2023\n",
       "4    1379\n",
       "3    1177\n",
       "2     837\n",
       "1     760\n",
       "0     400\n",
       "6     112\n",
       "Name: age, dtype: int64"
      ]
     },
     "execution_count": 18,
     "metadata": {},
     "output_type": "execute_result"
    }
   ],
   "source": [
    "dfFinal.age.value_counts()"
   ]
  },
  {
   "cell_type": "code",
   "execution_count": 19,
   "id": "ebb748a7",
   "metadata": {},
   "outputs": [],
   "source": [
    "X = dfFinal.copy()"
   ]
  },
  {
   "cell_type": "code",
   "execution_count": 20,
   "id": "0979f7d2",
   "metadata": {},
   "outputs": [
    {
     "data": {
      "text/html": [
       "<div>\n",
       "<style scoped>\n",
       "    .dataframe tbody tr th:only-of-type {\n",
       "        vertical-align: middle;\n",
       "    }\n",
       "\n",
       "    .dataframe tbody tr th {\n",
       "        vertical-align: top;\n",
       "    }\n",
       "\n",
       "    .dataframe thead th {\n",
       "        text-align: right;\n",
       "    }\n",
       "</style>\n",
       "<table border=\"1\" class=\"dataframe\">\n",
       "  <thead>\n",
       "    <tr style=\"text-align: right;\">\n",
       "      <th></th>\n",
       "      <th>STATE</th>\n",
       "      <th>GEOSTR</th>\n",
       "      <th>DENSTR2</th>\n",
       "      <th>PRECALL</th>\n",
       "      <th>REPNUM</th>\n",
       "      <th>REPDEPTH</th>\n",
       "      <th>FMONTH</th>\n",
       "      <th>IDATE</th>\n",
       "      <th>IMONTH</th>\n",
       "      <th>IDAY</th>\n",
       "      <th>...</th>\n",
       "      <th>HCVPRIME</th>\n",
       "      <th>HCVPRIMA</th>\n",
       "      <th>HLTHPREG</th>\n",
       "      <th>PREGEVER</th>\n",
       "      <th>BRTHCNTL3</th>\n",
       "      <th>TYPCNTRL2</th>\n",
       "      <th>NOBCUSE2</th>\n",
       "      <th>PFCHLDFT</th>\n",
       "      <th>PRNTLVIT</th>\n",
       "      <th>REGION</th>\n",
       "    </tr>\n",
       "  </thead>\n",
       "  <tbody>\n",
       "    <tr>\n",
       "      <th>0</th>\n",
       "      <td>New York</td>\n",
       "      <td>201</td>\n",
       "      <td>D</td>\n",
       "      <td>To be called</td>\n",
       "      <td>40136</td>\n",
       "      <td>28</td>\n",
       "      <td>April</td>\n",
       "      <td>4252014</td>\n",
       "      <td>4</td>\n",
       "      <td>25</td>\n",
       "      <td>...</td>\n",
       "      <td>Not asked or Missing</td>\n",
       "      <td>Not asked or Missing</td>\n",
       "      <td>Not asked or Missing</td>\n",
       "      <td>Not asked or Missing</td>\n",
       "      <td>NaN</td>\n",
       "      <td>NaN</td>\n",
       "      <td>NaN</td>\n",
       "      <td>Not asked or Missing</td>\n",
       "      <td>NaN</td>\n",
       "      <td>NYS exclusive of NYC</td>\n",
       "    </tr>\n",
       "    <tr>\n",
       "      <th>1</th>\n",
       "      <td>New York</td>\n",
       "      <td>202</td>\n",
       "      <td>D</td>\n",
       "      <td>To be called</td>\n",
       "      <td>10105</td>\n",
       "      <td>17</td>\n",
       "      <td>January</td>\n",
       "      <td>3162014</td>\n",
       "      <td>3</td>\n",
       "      <td>16</td>\n",
       "      <td>...</td>\n",
       "      <td>Not asked or Missing</td>\n",
       "      <td>Not asked or Missing</td>\n",
       "      <td>Not asked or Missing</td>\n",
       "      <td>Not asked or Missing</td>\n",
       "      <td>NaN</td>\n",
       "      <td>NaN</td>\n",
       "      <td>NaN</td>\n",
       "      <td>Not asked or Missing</td>\n",
       "      <td>NaN</td>\n",
       "      <td>New York City (NYC)</td>\n",
       "    </tr>\n",
       "    <tr>\n",
       "      <th>2</th>\n",
       "      <td>New York</td>\n",
       "      <td>201</td>\n",
       "      <td>D</td>\n",
       "      <td>To be called</td>\n",
       "      <td>110014</td>\n",
       "      <td>4</td>\n",
       "      <td>November</td>\n",
       "      <td>11292014</td>\n",
       "      <td>November</td>\n",
       "      <td>29</td>\n",
       "      <td>...</td>\n",
       "      <td>Not asked or Missing</td>\n",
       "      <td>Not asked or Missing</td>\n",
       "      <td>Not asked or Missing</td>\n",
       "      <td>Not asked or Missing</td>\n",
       "      <td>NaN</td>\n",
       "      <td>NaN</td>\n",
       "      <td>NaN</td>\n",
       "      <td>Not asked or Missing</td>\n",
       "      <td>NaN</td>\n",
       "      <td>NYS exclusive of NYC</td>\n",
       "    </tr>\n",
       "    <tr>\n",
       "      <th>3</th>\n",
       "      <td>New York</td>\n",
       "      <td>201</td>\n",
       "      <td>D</td>\n",
       "      <td>To be called</td>\n",
       "      <td>110083</td>\n",
       "      <td>6</td>\n",
       "      <td>November</td>\n",
       "      <td>11252014</td>\n",
       "      <td>November</td>\n",
       "      <td>25</td>\n",
       "      <td>...</td>\n",
       "      <td>Not asked or Missing</td>\n",
       "      <td>Not asked or Missing</td>\n",
       "      <td>Not asked or Missing</td>\n",
       "      <td>Not asked or Missing</td>\n",
       "      <td>NaN</td>\n",
       "      <td>NaN</td>\n",
       "      <td>NaN</td>\n",
       "      <td>Not asked or Missing</td>\n",
       "      <td>NaN</td>\n",
       "      <td>NYS exclusive of NYC</td>\n",
       "    </tr>\n",
       "    <tr>\n",
       "      <th>4</th>\n",
       "      <td>New York</td>\n",
       "      <td>202</td>\n",
       "      <td>D</td>\n",
       "      <td>To be called</td>\n",
       "      <td>50129</td>\n",
       "      <td>7</td>\n",
       "      <td>May</td>\n",
       "      <td>10052014</td>\n",
       "      <td>October</td>\n",
       "      <td>5</td>\n",
       "      <td>...</td>\n",
       "      <td>Not asked or Missing</td>\n",
       "      <td>Not asked or Missing</td>\n",
       "      <td>Not asked or Missing</td>\n",
       "      <td>Not asked or Missing</td>\n",
       "      <td>NaN</td>\n",
       "      <td>NaN</td>\n",
       "      <td>NaN</td>\n",
       "      <td>Not asked or Missing</td>\n",
       "      <td>NaN</td>\n",
       "      <td>New York City (NYC)</td>\n",
       "    </tr>\n",
       "  </tbody>\n",
       "</table>\n",
       "<p>5 rows × 116 columns</p>\n",
       "</div>"
      ],
      "text/plain": [
       "      STATE  GEOSTR DENSTR2       PRECALL  REPNUM  REPDEPTH    FMONTH  \\\n",
       "0  New York     201       D  To be called   40136        28     April   \n",
       "1  New York     202       D  To be called   10105        17   January   \n",
       "2  New York     201       D  To be called  110014         4  November   \n",
       "3  New York     201       D  To be called  110083         6  November   \n",
       "4  New York     202       D  To be called   50129         7       May   \n",
       "\n",
       "      IDATE    IMONTH  IDAY  ...              HCVPRIME              HCVPRIMA  \\\n",
       "0   4252014         4    25  ...  Not asked or Missing  Not asked or Missing   \n",
       "1   3162014         3    16  ...  Not asked or Missing  Not asked or Missing   \n",
       "2  11292014  November    29  ...  Not asked or Missing  Not asked or Missing   \n",
       "3  11252014  November    25  ...  Not asked or Missing  Not asked or Missing   \n",
       "4  10052014   October     5  ...  Not asked or Missing  Not asked or Missing   \n",
       "\n",
       "               HLTHPREG              PREGEVER  BRTHCNTL3  TYPCNTRL2  NOBCUSE2  \\\n",
       "0  Not asked or Missing  Not asked or Missing        NaN        NaN       NaN   \n",
       "1  Not asked or Missing  Not asked or Missing        NaN        NaN       NaN   \n",
       "2  Not asked or Missing  Not asked or Missing        NaN        NaN       NaN   \n",
       "3  Not asked or Missing  Not asked or Missing        NaN        NaN       NaN   \n",
       "4  Not asked or Missing  Not asked or Missing        NaN        NaN       NaN   \n",
       "\n",
       "               PFCHLDFT PRNTLVIT                REGION  \n",
       "0  Not asked or Missing      NaN  NYS exclusive of NYC  \n",
       "1  Not asked or Missing      NaN   New York City (NYC)  \n",
       "2  Not asked or Missing      NaN  NYS exclusive of NYC  \n",
       "3  Not asked or Missing      NaN  NYS exclusive of NYC  \n",
       "4  Not asked or Missing      NaN   New York City (NYC)  \n",
       "\n",
       "[5 rows x 116 columns]"
      ]
     },
     "execution_count": 20,
     "metadata": {},
     "output_type": "execute_result"
    }
   ],
   "source": [
    "data.head()"
   ]
  },
  {
   "cell_type": "code",
   "execution_count": 21,
   "id": "1438c5fe",
   "metadata": {},
   "outputs": [
    {
     "data": {
      "text/plain": [
       "No     5846\n",
       "Yes     842\n",
       "Name: DIABETE3, dtype: int64"
      ]
     },
     "execution_count": 21,
     "metadata": {},
     "output_type": "execute_result"
    }
   ],
   "source": [
    "data.DIABETE3.value_counts()"
   ]
  },
  {
   "cell_type": "code",
   "execution_count": 22,
   "id": "4a87fa81",
   "metadata": {},
   "outputs": [],
   "source": [
    "data.DIABETE3.replace(inplace=True,to_replace=['No pre-diabetes or borderline diabetes','Yes but female told only during pregnancy','Don\\x92t know/Not sure'],value=['No','Yes', np.nan])"
   ]
  },
  {
   "cell_type": "code",
   "execution_count": 23,
   "id": "9d5ce2e7",
   "metadata": {},
   "outputs": [
    {
     "data": {
      "text/plain": [
       "No     5846\n",
       "Yes     842\n",
       "Name: DIABETE3, dtype: int64"
      ]
     },
     "execution_count": 23,
     "metadata": {},
     "output_type": "execute_result"
    }
   ],
   "source": [
    "data.DIABETE3.value_counts()"
   ]
  },
  {
   "cell_type": "code",
   "execution_count": 24,
   "id": "57687845",
   "metadata": {},
   "outputs": [],
   "source": [
    "data['DIABETE3'] = lc.fit_transform(data['DIABETE3'])"
   ]
  },
  {
   "cell_type": "code",
   "execution_count": 25,
   "id": "6d9967b2",
   "metadata": {},
   "outputs": [],
   "source": [
    "y = data['DIABETE3']\n"
   ]
  },
  {
   "cell_type": "code",
   "execution_count": 26,
   "id": "d0755eef",
   "metadata": {},
   "outputs": [
    {
     "data": {
      "text/plain": [
       "0    5846\n",
       "1     842\n",
       "Name: DIABETE3, dtype: int64"
      ]
     },
     "execution_count": 26,
     "metadata": {},
     "output_type": "execute_result"
    }
   ],
   "source": [
    "y.value_counts()"
   ]
  },
  {
   "cell_type": "code",
   "execution_count": 27,
   "id": "eadd341e",
   "metadata": {},
   "outputs": [],
   "source": [
    "from sklearn.model_selection import train_test_split"
   ]
  },
  {
   "cell_type": "code",
   "execution_count": 28,
   "id": "841c6ebd",
   "metadata": {},
   "outputs": [],
   "source": [
    "X_train, X_test, y_train, y_test = train_test_split(X, y, test_size=0.25, random_state=42)"
   ]
  },
  {
   "cell_type": "code",
   "execution_count": 29,
   "id": "7ef4a466",
   "metadata": {},
   "outputs": [],
   "source": [
    "from sklearn.ensemble import RandomForestClassifier"
   ]
  },
  {
   "cell_type": "code",
   "execution_count": 30,
   "id": "2adc9e9f",
   "metadata": {},
   "outputs": [],
   "source": [
    "classifier = RandomForestClassifier()"
   ]
  },
  {
   "cell_type": "code",
   "execution_count": 31,
   "id": "28a9837b",
   "metadata": {},
   "outputs": [
    {
     "data": {
      "text/plain": [
       "RandomForestClassifier()"
      ]
     },
     "execution_count": 31,
     "metadata": {},
     "output_type": "execute_result"
    }
   ],
   "source": [
    "classifier.fit(X_train,y_train)"
   ]
  },
  {
   "cell_type": "code",
   "execution_count": 32,
   "id": "c7ea63e3",
   "metadata": {},
   "outputs": [],
   "source": [
    "yPredict = classifier.predict(X_test)"
   ]
  },
  {
   "cell_type": "code",
   "execution_count": 33,
   "id": "80122f7f",
   "metadata": {},
   "outputs": [],
   "source": [
    "from sklearn.metrics import *"
   ]
  },
  {
   "cell_type": "code",
   "execution_count": 34,
   "id": "c02cf47c",
   "metadata": {},
   "outputs": [
    {
     "data": {
      "text/plain": [
       "0.8702153110047847"
      ]
     },
     "execution_count": 34,
     "metadata": {},
     "output_type": "execute_result"
    }
   ],
   "source": [
    "accuracy_score(y_test,yPredict)"
   ]
  },
  {
   "cell_type": "code",
   "execution_count": 35,
   "id": "e21a19e8",
   "metadata": {},
   "outputs": [],
   "source": [
    "n_estimators = [5,20,50,100] # number of trees in the random forest\n",
    "max_features = ['auto', 'sqrt'] # number of features in consideration at every split\n",
    "max_depth = [int(x) for x in np.linspace(10, 120, num = 12)] # maximum number of levels allowed in each decision tree\n",
    "min_samples_split = [2, 6, 10] # minimum sample number to split a node\n",
    "min_samples_leaf = [1, 3, 4] # minimum sample number that can be stored in a leaf node\n",
    "bootstrap = [True, False] # method used to sample data points\n",
    "\n",
    "random_grid = {'n_estimators': n_estimators,\n",
    "\n",
    "'max_features': max_features,\n",
    "\n",
    "'max_depth': max_depth,\n",
    "\n",
    "'min_samples_split': min_samples_split,\n",
    "\n",
    "'min_samples_leaf': min_samples_leaf,\n",
    "\n",
    "'bootstrap': bootstrap}"
   ]
  },
  {
   "cell_type": "code",
   "execution_count": 37,
   "id": "71a7e0d4",
   "metadata": {},
   "outputs": [],
   "source": [
    "rf = RandomForestClassifier()"
   ]
  },
  {
   "cell_type": "code",
   "execution_count": 38,
   "id": "c9929113",
   "metadata": {},
   "outputs": [],
   "source": [
    "from sklearn.model_selection import RandomizedSearchCV\n",
    "rf_random = RandomizedSearchCV(estimator = rf,param_distributions = random_grid,\n",
    "               n_iter = 100, cv = 5, verbose=2, random_state=35, n_jobs = -1)"
   ]
  },
  {
   "cell_type": "code",
   "execution_count": 39,
   "id": "39e4f6af",
   "metadata": {},
   "outputs": [
    {
     "name": "stdout",
     "output_type": "stream",
     "text": [
      "Fitting 5 folds for each of 100 candidates, totalling 500 fits\n"
     ]
    },
    {
     "data": {
      "text/plain": [
       "RandomizedSearchCV(cv=5, estimator=RandomForestClassifier(), n_iter=100,\n",
       "                   n_jobs=-1,\n",
       "                   param_distributions={'bootstrap': [True, False],\n",
       "                                        'max_depth': [10, 20, 30, 40, 50, 60,\n",
       "                                                      70, 80, 90, 100, 110,\n",
       "                                                      120],\n",
       "                                        'max_features': ['auto', 'sqrt'],\n",
       "                                        'min_samples_leaf': [1, 3, 4],\n",
       "                                        'min_samples_split': [2, 6, 10],\n",
       "                                        'n_estimators': [5, 20, 50, 100]},\n",
       "                   random_state=35, verbose=2)"
      ]
     },
     "execution_count": 39,
     "metadata": {},
     "output_type": "execute_result"
    }
   ],
   "source": [
    "rf_random.fit(X_train, y_train)"
   ]
  },
  {
   "cell_type": "code",
   "execution_count": 40,
   "id": "00852396",
   "metadata": {},
   "outputs": [
    {
     "name": "stdout",
     "output_type": "stream",
     "text": [
      "Random grid:  {'n_estimators': [5, 20, 50, 100], 'max_features': ['auto', 'sqrt'], 'max_depth': [10, 20, 30, 40, 50, 60, 70, 80, 90, 100, 110, 120], 'min_samples_split': [2, 6, 10], 'min_samples_leaf': [1, 3, 4], 'bootstrap': [True, False]} \n",
      "\n",
      "Best Parameters:  {'n_estimators': 20, 'min_samples_split': 10, 'min_samples_leaf': 4, 'max_features': 'sqrt', 'max_depth': 10, 'bootstrap': True}  \n",
      "\n"
     ]
    }
   ],
   "source": [
    "print ('Random grid: ', random_grid, '\\n')\n",
    "# print the best parameters\n",
    "print ('Best Parameters: ', rf_random.best_params_, ' \\n')"
   ]
  },
  {
   "cell_type": "code",
   "execution_count": 41,
   "id": "2c340f37",
   "metadata": {},
   "outputs": [
    {
     "data": {
      "text/plain": [
       "RandomForestClassifier(max_depth=10, max_features='sqrt', min_samples_leaf=4,\n",
       "                       min_samples_split=10, n_estimators=20)"
      ]
     },
     "execution_count": 41,
     "metadata": {},
     "output_type": "execute_result"
    }
   ],
   "source": [
    "randmf = RandomForestClassifier(n_estimators = 20, min_samples_split = 10, min_samples_leaf= 4, max_features = 'sqrt', max_depth= 10, bootstrap=True) \n",
    "randmf.fit( X_train, y_train) "
   ]
  },
  {
   "cell_type": "code",
   "execution_count": 42,
   "id": "a4f59c86",
   "metadata": {},
   "outputs": [],
   "source": [
    "yph = randmf.predict(X_test)"
   ]
  },
  {
   "cell_type": "code",
   "execution_count": 43,
   "id": "57e867dd",
   "metadata": {},
   "outputs": [
    {
     "data": {
      "text/plain": [
       "0.8833732057416268"
      ]
     },
     "execution_count": 43,
     "metadata": {},
     "output_type": "execute_result"
    }
   ],
   "source": [
    "accuracy_score(y_test,yph)"
   ]
  },
  {
   "cell_type": "code",
   "execution_count": null,
   "id": "4584adc4",
   "metadata": {},
   "outputs": [],
   "source": []
  }
 ],
 "metadata": {
  "kernelspec": {
   "display_name": "Python 3 (ipykernel)",
   "language": "python",
   "name": "python3"
  },
  "language_info": {
   "codemirror_mode": {
    "name": "ipython",
    "version": 3
   },
   "file_extension": ".py",
   "mimetype": "text/x-python",
   "name": "python",
   "nbconvert_exporter": "python",
   "pygments_lexer": "ipython3",
   "version": "3.9.7"
  }
 },
 "nbformat": 4,
 "nbformat_minor": 5
}
